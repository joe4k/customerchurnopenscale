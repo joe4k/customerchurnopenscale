{
    "nbformat_minor": 1, 
    "cells": [
        {
            "source": "# WML Openscale Payload Logging\nThis is a simple notebook to execute an initial scoring request to the machine learning model deployed in Watson Machine Learning for purposes of Openscale payload logging.", 
            "cell_type": "markdown", 
            "metadata": {}
        }, 
        {
            "execution_count": null, 
            "cell_type": "code", 
            "metadata": {}, 
            "outputs": [], 
            "source": "import os, json\nfrom watson_machine_learning_client import WatsonMachineLearningAPIClient"
        }, 
        {
            "source": "### Watson Machine Learning credentials\nIn the next cell, please provide the Watson Machine Learning credentials which you can get by navigating to your IBM Cloud account, finding your Watson Machine Learning service, and clicking on \"Service Credentials\".\n```\nwml_credentials = {\n    \"apikey\": \"########\",\n    \"instance_id\": \"#########\",\n    \"url\": \"##########\"\n}\n```", 
            "cell_type": "markdown", 
            "metadata": {}
        }, 
        {
            "execution_count": null, 
            "cell_type": "code", 
            "metadata": {}, 
            "outputs": [], 
            "source": "\nwml_credentials = {\n    \"apikey\": \"########\",\n    \"instance_id\": \"############\",\n    \"url\": \"##########\"\n}"
        }, 
        {
            "execution_count": null, 
            "cell_type": "code", 
            "metadata": {}, 
            "outputs": [], 
            "source": "# The code was removed by Watson Studio for sharing."
        }, 
        {
            "execution_count": null, 
            "cell_type": "code", 
            "metadata": {}, 
            "outputs": [], 
            "source": "client = WatsonMachineLearningAPIClient( wml_credentials )"
        }, 
        {
            "source": "### Model Deployment Scoring Endpoint\nIn this section, we identify the model we want to send a scoring request to and extract its endpoint from WML.", 
            "cell_type": "markdown", 
            "metadata": {}
        }, 
        {
            "execution_count": null, 
            "cell_type": "code", 
            "metadata": {
                "scrolled": true
            }, 
            "outputs": [], 
            "source": "client.deployments.list()"
        }, 
        {
            "execution_count": null, 
            "cell_type": "code", 
            "metadata": {}, 
            "outputs": [], 
            "source": "deployment_id = 'd8a08019-2bd8-464e-9e5f-8b04d34c9acb'"
        }, 
        {
            "execution_count": null, 
            "cell_type": "code", 
            "metadata": {}, 
            "outputs": [], 
            "source": "function_deployment_details = client.deployments.get_details(deployment_id)"
        }, 
        {
            "execution_count": null, 
            "cell_type": "code", 
            "metadata": {}, 
            "outputs": [], 
            "source": "# Get the endpoint URL of the function deployment just created\n#\nfunction_deployment_endpoint_url = client.deployments.get_scoring_url( function_deployment_details )\nfunction_deployment_endpoint_url"
        }, 
        {
            "source": "### Test the deployed function in WML\nYou can use the Watson Machine Learning Python client or REST API to send data to your function deployment for processing in exactly the same way you send data to model deployments for processing.\n\nSpecify the deployment_id (first column from list above) to test.", 
            "cell_type": "markdown", 
            "metadata": {}
        }, 
        {
            "execution_count": null, 
            "cell_type": "code", 
            "metadata": {}, 
            "outputs": [], 
            "source": "fields = ['DROPPED', 'INTERNATIONAL', 'ESTINCOME', 'LONGDISTANCEBILLTYPE', 'RATEPLAN', 'GENDER', 'STATUS', 'AGE', 'LOCALBILLTYPE', 'LOCAL', 'PAYMETHOD', 'PHASE', 'CHILDREN', 'USAGE', 'LONGDISTANCE', 'CAROWNER']\nvalues = [\n    [0, 8, 38538.4, 'Standard', 3, 'F', 'M', 12.326667, 'FreeLocal', 16, 'CC', 'Child', 0, 47, 22, 'N'],\n    [0, 8, 38538.4, 'Standard', 3, 'F', 'M', 12.326667, 'FreeLocal', 16, 'CC', 'Child', 0, 47, 22, 'N'],\n    [0, 8, 38538.4, 'Standard', 3, 'F', 'M', 12.326667, 'FreeLocal', 16, 'CC', 'Child', 0, 47, 22, 'N']\n]\ntest_data = {\n    \"fields\": fields,\n    \"values\": values\n}"
        }, 
        {
            "execution_count": null, 
            "cell_type": "code", 
            "metadata": {}, 
            "outputs": [], 
            "source": "result = client.deployments.score( function_deployment_endpoint_url, test_data )\nif \"error\" in result:\n    print( result[\"error\"] )\nelse:\n    print( result )"
        }, 
        {
            "execution_count": null, 
            "cell_type": "code", 
            "metadata": {}, 
            "outputs": [], 
            "source": ""
        }
    ], 
    "metadata": {
        "kernelspec": {
            "display_name": "Python 3.6", 
            "name": "python3", 
            "language": "python"
        }, 
        "language_info": {
            "mimetype": "text/x-python", 
            "nbconvert_exporter": "python", 
            "version": "3.6.8", 
            "name": "python", 
            "file_extension": ".py", 
            "pygments_lexer": "ipython3", 
            "codemirror_mode": {
                "version": 3, 
                "name": "ipython"
            }
        }
    }, 
    "nbformat": 4
}