{
    "nbformat_minor": 1, 
    "cells": [
        {
            "source": "# Batch Scoring Notebook\nIn this notebook, we step through batch scoring against a deployed machine learning model. There are multiple uses for batch scoring but our focus in this scenario is batch scoring so that Watson Openscale can collect enough data points to be able to provide adequate metrics on fairness and accuracy of the trained model.", 
            "cell_type": "markdown", 
            "metadata": {}
        }, 
        {
            "execution_count": 18, 
            "cell_type": "code", 
            "metadata": {}, 
            "outputs": [], 
            "source": "import pandas as pd"
        }, 
        {
            "execution_count": 2, 
            "cell_type": "code", 
            "metadata": {}, 
            "outputs": [], 
            "source": "from watson_machine_learning_client import WatsonMachineLearningAPIClient"
        }, 
        {
            "source": "## WML Deployed Model\nIn this section, we setup the configuration to access Watson Machine Learning deployed model.\n\nIn the next cell, please provide the Watson Machine Learning credentials which you can get by navigating to your IBM Cloud account, finding your Watson Machine Learning service, and clicking on \"Service Credentials\".\n```\nwml_credentials = {\n    \"apikey\": \"########\",\n    \"instance_id\": \"#########\",\n    \"url\": \"##########\"\n}\n```", 
            "cell_type": "markdown", 
            "metadata": {}
        }, 
        {
            "execution_count": 3, 
            "cell_type": "code", 
            "metadata": {}, 
            "outputs": [], 
            "source": "# Fill out apikey, instance_id, and url values from your WML service credentials\nwml_credentials = {\n    \"apikey\": \"#########\",\n    \"instance_id\": \"##########\",\n    \"url\": \"#########\"\n}"
        }, 
        {
            "execution_count": 4, 
            "cell_type": "code", 
            "metadata": {}, 
            "outputs": [], 
            "source": "# The code was removed by Watson Studio for sharing."
        }, 
        {
            "execution_count": 5, 
            "cell_type": "code", 
            "metadata": {}, 
            "outputs": [], 
            "source": "client = WatsonMachineLearningAPIClient( wml_credentials )"
        }, 
        {
            "execution_count": 12, 
            "cell_type": "code", 
            "metadata": {}, 
            "outputs": [
                {
                    "output_type": "stream", 
                    "name": "stdout", 
                    "text": "------------------------------------  ---------------------------------------  ------  --------------  ------------------------  -----------------  -------------\nGUID                                  NAME                                     TYPE    STATE           CREATED                   FRAMEWORK          ARTIFACT TYPE\na21433bb-fc7b-41bc-830e-b5096691ca0c  Customer Churn ICP4D labuser1            online  DEPLOY_SUCCESS  2019-10-09T18:10:21.313Z  n/a                function\n16b69e68-fbfa-43ce-b471-86c4e984c29b  KoL-model-icp4d-depl-jk                  online  DEPLOY_SUCCESS  2019-05-17T20:32:30.254Z  mllib-2.3          model\n4b3bbcbb-285c-48bd-8f1f-a3ab2ca8f051  RF Predict Churn SparkML Jan2019         online  DEPLOY_SUCCESS  2019-02-11T17:58:44.425Z  mllib-2.1          model\n7faf7412-97c2-4cae-be62-e086c1d0d3fb  Predict Employee Attrition ALL Features  online  DEPLOY_SUCCESS  2018-12-07T19:29:38.895Z  scikit-learn-0.19  model\n------------------------------------  ---------------------------------------  ------  --------------  ------------------------  -----------------  -------------\n"
                }
            ], 
            "source": "client.deployments.list()"
        }, 
        {
            "source": "#### Identify the right deployment id from the above list corresponding to the deployment to which you want to send the scoring request. \n#### Use the same deployment id to get deployment details in the next cell", 
            "cell_type": "markdown", 
            "metadata": {}
        }, 
        {
            "execution_count": 13, 
            "cell_type": "code", 
            "metadata": {}, 
            "outputs": [], 
            "source": "deployment_id = '###########'\ndeployment_details = client.deployments.get_details(deployment_id)"
        }, 
        {
            "execution_count": 14, 
            "cell_type": "code", 
            "metadata": {}, 
            "outputs": [
                {
                    "output_type": "stream", 
                    "name": "stdout", 
                    "text": "https://us-south.ml.cloud.ibm.com/v3/wml_instances/e499ea96-f78a-42fe-a916-ff7dc1a2bca6/deployments/a21433bb-fc7b-41bc-830e-b5096691ca0c/online\n"
                }
            ], 
            "source": "# Extract the scoring end point for the churn prediction model\nchurn_scoring_url = deployment_details['entity']['scoring_url']\nprint(churn_scoring_url)"
        }, 
        {
            "source": "## You can run this cell if you want to do a quick test with one record\nfields = ['LONGDISTANCE', 'INTERNATIONAL', 'LOCAL', 'DROPPED', 'PAYMETHOD', 'LOCALBILLTYPE', 'LONGDISTANCEBILLTYPE', 'USAGE', 'RATEPLAN', 'GENDER', 'STATUS', 'CHILDREN', 'ESTINCOME', 'CAROWNER', 'AGE']\nvalues = [\n    [23, 0, 206, 0, 'CC', 'Budget', 'Intnl_discount', 229, 3, 'F', 'S', 1, 38000.0, 'N', 24.393]\n]\ntest_data = {\n    \"fields\": fields,\n    \"values\": values\n}\nresult = client.deployments.score(churn_scoring_url, test_data )\nprint(result)\n", 
            "cell_type": "raw", 
            "metadata": {}
        }, 
        {
            "source": "## Scoring Data\nIn this section, we download the scoring data which we will send to the deployed customer churn prediction machine learning model.\n\nThe data is stored as a csv file on github so it can be loaded directly into a pandas dataframe using read_csv functionality.\n", 
            "cell_type": "markdown", 
            "metadata": {}
        }, 
        {
            "execution_count": 30, 
            "cell_type": "code", 
            "metadata": {}, 
            "outputs": [], 
            "source": "csvurl = \"https://raw.githubusercontent.com/joe4k/customerchurnopenscale/master/data/CustomerChurnScoringData.csv\"\nchurn_data_daily = pd.read_csv(csvurl,header=0)\n"
        }, 
        {
            "execution_count": 31, 
            "cell_type": "code", 
            "metadata": {}, 
            "outputs": [
                {
                    "execution_count": 31, 
                    "metadata": {}, 
                    "data": {
                        "text/plain": "(533, 16)"
                    }, 
                    "output_type": "execute_result"
                }
            ], 
            "source": "churn_data_daily.shape"
        }, 
        {
            "execution_count": 32, 
            "cell_type": "code", 
            "metadata": {}, 
            "outputs": [], 
            "source": "# drop ID column\nchurnDF = churn_data_daily.drop(['ID'],axis=1)"
        }, 
        {
            "execution_count": 33, 
            "cell_type": "code", 
            "metadata": {}, 
            "outputs": [
                {
                    "execution_count": 33, 
                    "metadata": {}, 
                    "data": {
                        "text/html": "<div>\n<style scoped>\n    .dataframe tbody tr th:only-of-type {\n        vertical-align: middle;\n    }\n\n    .dataframe tbody tr th {\n        vertical-align: top;\n    }\n\n    .dataframe thead th {\n        text-align: right;\n    }\n</style>\n<table border=\"1\" class=\"dataframe\">\n  <thead>\n    <tr style=\"text-align: right;\">\n      <th></th>\n      <th>GENDER</th>\n      <th>STATUS</th>\n      <th>CHILDREN</th>\n      <th>ESTINCOME</th>\n      <th>CAROWNER</th>\n      <th>AGE</th>\n      <th>LONGDISTANCE</th>\n      <th>INTERNATIONAL</th>\n      <th>LOCAL</th>\n      <th>DROPPED</th>\n      <th>PAYMETHOD</th>\n      <th>LOCALBILLTYPE</th>\n      <th>LONGDISTANCEBILLTYPE</th>\n      <th>USAGE</th>\n      <th>RATEPLAN</th>\n    </tr>\n  </thead>\n  <tbody>\n    <tr>\n      <th>0</th>\n      <td>F</td>\n      <td>M</td>\n      <td>2</td>\n      <td>52004.8</td>\n      <td>N</td>\n      <td>25.140000</td>\n      <td>5</td>\n      <td>0</td>\n      <td>23</td>\n      <td>0</td>\n      <td>CH</td>\n      <td>Budget</td>\n      <td>Intnl_discount</td>\n      <td>28</td>\n      <td>1</td>\n    </tr>\n    <tr>\n      <th>1</th>\n      <td>M</td>\n      <td>M</td>\n      <td>1</td>\n      <td>75004.5</td>\n      <td>N</td>\n      <td>64.800000</td>\n      <td>26</td>\n      <td>0</td>\n      <td>32</td>\n      <td>0</td>\n      <td>CC</td>\n      <td>Budget</td>\n      <td>Intnl_discount</td>\n      <td>58</td>\n      <td>1</td>\n    </tr>\n    <tr>\n      <th>2</th>\n      <td>M</td>\n      <td>M</td>\n      <td>0</td>\n      <td>19749.3</td>\n      <td>N</td>\n      <td>60.366667</td>\n      <td>20</td>\n      <td>0</td>\n      <td>13</td>\n      <td>0</td>\n      <td>CC</td>\n      <td>Budget</td>\n      <td>Standard</td>\n      <td>34</td>\n      <td>3</td>\n    </tr>\n    <tr>\n      <th>3</th>\n      <td>M</td>\n      <td>S</td>\n      <td>1</td>\n      <td>57626.9</td>\n      <td>Y</td>\n      <td>43.906667</td>\n      <td>9</td>\n      <td>0</td>\n      <td>38</td>\n      <td>0</td>\n      <td>CC</td>\n      <td>Budget</td>\n      <td>Standard</td>\n      <td>48</td>\n      <td>2</td>\n    </tr>\n    <tr>\n      <th>4</th>\n      <td>F</td>\n      <td>S</td>\n      <td>0</td>\n      <td>78851.3</td>\n      <td>N</td>\n      <td>48.373333</td>\n      <td>0</td>\n      <td>0</td>\n      <td>28</td>\n      <td>0</td>\n      <td>CC</td>\n      <td>FreeLocal</td>\n      <td>Standard</td>\n      <td>29</td>\n      <td>4</td>\n    </tr>\n  </tbody>\n</table>\n</div>", 
                        "text/plain": "  GENDER STATUS  CHILDREN  ESTINCOME CAROWNER        AGE  LONGDISTANCE  \\\n0      F      M         2    52004.8        N  25.140000             5   \n1      M      M         1    75004.5        N  64.800000            26   \n2      M      M         0    19749.3        N  60.366667            20   \n3      M      S         1    57626.9        Y  43.906667             9   \n4      F      S         0    78851.3        N  48.373333             0   \n\n   INTERNATIONAL  LOCAL  DROPPED PAYMETHOD LOCALBILLTYPE LONGDISTANCEBILLTYPE  \\\n0              0     23        0        CH        Budget       Intnl_discount   \n1              0     32        0        CC        Budget       Intnl_discount   \n2              0     13        0        CC        Budget             Standard   \n3              0     38        0        CC        Budget             Standard   \n4              0     28        0        CC     FreeLocal             Standard   \n\n   USAGE  RATEPLAN  \n0     28         1  \n1     58         1  \n2     34         3  \n3     48         2  \n4     29         4  "
                    }, 
                    "output_type": "execute_result"
                }
            ], 
            "source": "churnDF.head()"
        }, 
        {
            "execution_count": 34, 
            "cell_type": "code", 
            "metadata": {}, 
            "outputs": [], 
            "source": "deployment_details = client.deployments.get_details(deployment_id)\nchurn_scoring_url = deployment_details['entity']['scoring_url']\n"
        }, 
        {
            "execution_count": 35, 
            "cell_type": "code", 
            "metadata": {}, 
            "outputs": [
                {
                    "output_type": "stream", 
                    "name": "stdout", 
                    "text": "['GENDER', 'STATUS', 'CHILDREN', 'ESTINCOME', 'CAROWNER', 'AGE', 'LONGDISTANCE', 'INTERNATIONAL', 'LOCAL', 'DROPPED', 'PAYMETHOD', 'LOCALBILLTYPE', 'LONGDISTANCEBILLTYPE', 'USAGE', 'RATEPLAN']\n"
                }
            ], 
            "source": "flds = churnDF.columns.tolist()\nprint(flds)"
        }, 
        {
            "execution_count": 36, 
            "cell_type": "code", 
            "metadata": {}, 
            "outputs": [], 
            "source": "values = churnDF.values.tolist()"
        }, 
        {
            "execution_count": 37, 
            "cell_type": "code", 
            "metadata": {}, 
            "outputs": [
                {
                    "output_type": "stream", 
                    "name": "stdout", 
                    "text": "533\n"
                }
            ], 
            "source": "print(len(values))"
        }, 
        {
            "execution_count": 38, 
            "cell_type": "code", 
            "metadata": {}, 
            "outputs": [], 
            "source": "flds = churnDF.columns.tolist()\nvalues = churnDF.values.tolist()\npayload = {\n    \"fields\": flds,\n    \"values\": values\n}"
        }, 
        {
            "execution_count": 39, 
            "cell_type": "code", 
            "metadata": {}, 
            "outputs": [
                {
                    "execution_count": 39, 
                    "metadata": {}, 
                    "data": {
                        "text/plain": "(533, 15)"
                    }, 
                    "output_type": "execute_result"
                }
            ], 
            "source": "churnDF.shape"
        }, 
        {
            "execution_count": 40, 
            "cell_type": "code", 
            "metadata": {}, 
            "outputs": [
                {
                    "ename": "ApiRequestFailure", 
                    "evalue": "Failure during scoring. (POST https://us-south.ml.cloud.ibm.com/v3/wml_instances/e499ea96-f78a-42fe-a916-ff7dc1a2bca6/deployments/a21433bb-fc7b-41bc-830e-b5096691ca0c/online)\nStatus code: 504, body: upstream request timeout", 
                    "traceback": [
                        "\u001b[0;31m---------------------------------------------------------------------------\u001b[0m", 
                        "\u001b[0;31mApiRequestFailure\u001b[0m                         Traceback (most recent call last)", 
                        "\u001b[0;32m<ipython-input-40-7ebb2a023179>\u001b[0m in \u001b[0;36m<module>\u001b[0;34m\u001b[0m\n\u001b[0;32m----> 1\u001b[0;31m \u001b[0mresult\u001b[0m \u001b[0;34m=\u001b[0m \u001b[0mclient\u001b[0m\u001b[0;34m.\u001b[0m\u001b[0mdeployments\u001b[0m\u001b[0;34m.\u001b[0m\u001b[0mscore\u001b[0m\u001b[0;34m(\u001b[0m\u001b[0mchurn_scoring_url\u001b[0m\u001b[0;34m,\u001b[0m \u001b[0mtest_data\u001b[0m\u001b[0;34m)\u001b[0m\u001b[0;34m\u001b[0m\u001b[0;34m\u001b[0m\u001b[0m\n\u001b[0m\u001b[1;32m      2\u001b[0m \u001b[0mprint\u001b[0m\u001b[0;34m(\u001b[0m\u001b[0mresult\u001b[0m\u001b[0;34m)\u001b[0m\u001b[0;34m\u001b[0m\u001b[0;34m\u001b[0m\u001b[0m\n", 
                        "\u001b[0;32m/opt/conda/envs/Python36/lib/python3.6/site-packages/watson_machine_learning_client/deployments.py\u001b[0m in \u001b[0;36mscore\u001b[0;34m(self, scoring_url, payload, transaction_id)\u001b[0m\n\u001b[1;32m    841\u001b[0m                 verify=False)\n\u001b[1;32m    842\u001b[0m \u001b[0;34m\u001b[0m\u001b[0m\n\u001b[0;32m--> 843\u001b[0;31m         \u001b[0;32mreturn\u001b[0m \u001b[0mself\u001b[0m\u001b[0;34m.\u001b[0m\u001b[0m_handle_response\u001b[0m\u001b[0;34m(\u001b[0m\u001b[0;36m200\u001b[0m\u001b[0;34m,\u001b[0m \u001b[0;34mu'scoring'\u001b[0m\u001b[0;34m,\u001b[0m \u001b[0mresponse_scoring\u001b[0m\u001b[0;34m)\u001b[0m\u001b[0;34m\u001b[0m\u001b[0;34m\u001b[0m\u001b[0m\n\u001b[0m\u001b[1;32m    844\u001b[0m \u001b[0;34m\u001b[0m\u001b[0m\n\u001b[1;32m    845\u001b[0m     \u001b[0;32mdef\u001b[0m \u001b[0m_get_deployable_asset_type\u001b[0m\u001b[0;34m(\u001b[0m\u001b[0mself\u001b[0m\u001b[0;34m,\u001b[0m \u001b[0mdetails\u001b[0m\u001b[0;34m)\u001b[0m\u001b[0;34m:\u001b[0m\u001b[0;34m\u001b[0m\u001b[0;34m\u001b[0m\u001b[0m\n", 
                        "\u001b[0;32m/opt/conda/envs/Python36/lib/python3.6/site-packages/watson_machine_learning_client/wml_resource.py\u001b[0m in \u001b[0;36m_handle_response\u001b[0;34m(self, expected_status_code, operationName, response, json_response)\u001b[0m\n\u001b[1;32m     53\u001b[0m                 \u001b[0;32mreturn\u001b[0m \u001b[0mresponse\u001b[0m\u001b[0;34m.\u001b[0m\u001b[0mtext\u001b[0m\u001b[0;34m\u001b[0m\u001b[0;34m\u001b[0m\u001b[0m\n\u001b[1;32m     54\u001b[0m         \u001b[0;32melse\u001b[0m\u001b[0;34m:\u001b[0m\u001b[0;34m\u001b[0m\u001b[0;34m\u001b[0m\u001b[0m\n\u001b[0;32m---> 55\u001b[0;31m             \u001b[0;32mraise\u001b[0m \u001b[0mApiRequestFailure\u001b[0m\u001b[0;34m(\u001b[0m\u001b[0;34mu'Failure during {}.'\u001b[0m\u001b[0;34m.\u001b[0m\u001b[0mformat\u001b[0m\u001b[0;34m(\u001b[0m\u001b[0moperationName\u001b[0m\u001b[0;34m)\u001b[0m\u001b[0;34m,\u001b[0m \u001b[0mresponse\u001b[0m\u001b[0;34m)\u001b[0m\u001b[0;34m\u001b[0m\u001b[0;34m\u001b[0m\u001b[0m\n\u001b[0m\u001b[1;32m     56\u001b[0m \u001b[0;34m\u001b[0m\u001b[0m\n\u001b[1;32m     57\u001b[0m     \u001b[0;34m@\u001b[0m\u001b[0mstaticmethod\u001b[0m\u001b[0;34m\u001b[0m\u001b[0;34m\u001b[0m\u001b[0m\n", 
                        "\u001b[0;31mApiRequestFailure\u001b[0m: Failure during scoring. (POST https://us-south.ml.cloud.ibm.com/v3/wml_instances/e499ea96-f78a-42fe-a916-ff7dc1a2bca6/deployments/a21433bb-fc7b-41bc-830e-b5096691ca0c/online)\nStatus code: 504, body: upstream request timeout"
                    ], 
                    "output_type": "error"
                }
            ], 
            "source": "result = client.deployments.score(churn_scoring_url, test_data)\nprint(result)"
        }, 
        {
            "source": "## Conclusion\nYou have completed running batch scoring task for monitoring a churn prediction machine learning model.", 
            "cell_type": "markdown", 
            "metadata": {}
        }
    ], 
    "metadata": {
        "kernelspec": {
            "display_name": "Python 3.6", 
            "name": "python3", 
            "language": "python"
        }, 
        "language_info": {
            "mimetype": "text/x-python", 
            "nbconvert_exporter": "python", 
            "version": "3.6.8", 
            "name": "python", 
            "file_extension": ".py", 
            "pygments_lexer": "ipython3", 
            "codemirror_mode": {
                "version": 3, 
                "name": "ipython"
            }
        }
    }, 
    "nbformat": 4
}